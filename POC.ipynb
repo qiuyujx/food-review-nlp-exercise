{
 "cells": [
  {
   "cell_type": "code",
   "execution_count": 61,
   "metadata": {},
   "outputs": [
    {
     "name": "stderr",
     "output_type": "stream",
     "text": [
      "[nltk_data] Downloading package stopwords to\n",
      "[nltk_data]     C:\\Users\\czt3\\AppData\\Roaming\\nltk_data...\n",
      "[nltk_data]   Package stopwords is already up-to-date!\n",
      "[nltk_data] Downloading package punkt to\n",
      "[nltk_data]     C:\\Users\\czt3\\AppData\\Roaming\\nltk_data...\n",
      "[nltk_data]   Package punkt is already up-to-date!\n",
      "[nltk_data] Downloading package averaged_perceptron_tagger to\n",
      "[nltk_data]     C:\\Users\\czt3\\AppData\\Roaming\\nltk_data...\n",
      "[nltk_data]   Package averaged_perceptron_tagger is already up-to-\n",
      "[nltk_data]       date!\n"
     ]
    },
    {
     "data": {
      "text/plain": [
       "True"
      ]
     },
     "execution_count": 61,
     "metadata": {},
     "output_type": "execute_result"
    }
   ],
   "source": [
    "import os\n",
    "import nltk\n",
    "from nltk.corpus import stopwords\n",
    "from nltk.tokenize import word_tokenize\n",
    "import re\n",
    "\n",
    "nltk.download('stopwords')\n",
    "nltk.download('punkt')\n",
    "nltk.download('averaged_perceptron_tagger')"
   ]
  },
  {
   "cell_type": "code",
   "execution_count": 40,
   "metadata": {},
   "outputs": [
    {
     "name": "stdout",
     "output_type": "stream",
     "text": [
      "Rejected invalid input:  ['']\n"
     ]
    }
   ],
   "source": [
    "# Read reviews from training file\n",
    "reviews = open('data/train.txt', 'r').read().split('\\n')\n",
    "reviews = [line.split('\\t') for line in reviews]\n",
    "\n",
    "# Validate reviews strings\n",
    "for r in reviews:\n",
    "    if len(r) is not 2:\n",
    "        print('Rejected invalid input: ', str(r))\n",
    "        reviews.remove(r)\n",
    "\n",
    "# Split positive and negative reviews\n",
    "rw_pos = [r[0] for r in reviews if r[1] == '1']\n",
    "rw_neg = [r[0] for r in reviews if r[1] == '0']"
   ]
  },
  {
   "cell_type": "code",
   "execution_count": 67,
   "metadata": {},
   "outputs": [],
   "source": [
    "# Load stop words\n",
    "stop_words = list(set(stopwords.words('english')))\n",
    "\n",
    "# Select word types\n",
    "'''\n",
    "    j -> adjective\n",
    "    r -> adverb\n",
    "    v -> verb\n",
    "'''\n",
    "sel_wts = ['J', 'V']"
   ]
  },
  {
   "cell_type": "code",
   "execution_count": 94,
   "metadata": {},
   "outputs": [],
   "source": [
    "# Init\n",
    "all_words = []\n",
    "\n",
    "\n",
    "for r in rw_pos+rw_neg:\n",
    "    \n",
    "    # remove punctuations\n",
    "    cleaned = re.sub(r'[^(a-zA-Z)\\s]','', r)\n",
    "    \n",
    "    # Tokenise\n",
    "    tokenized = word_tokenize(cleaned)\n",
    "    \n",
    "    # Remove stop words\n",
    "    stopped = [w for w in tokenized if not w in stop_words]\n",
    "    \n",
    "    # Part of Speed labelling \n",
    "    labelled = nltk.pos_tag(stopped)\n",
    "    \n",
    "    # Reserve word types needed\n",
    "    for w in labelled:\n",
    "        if w[1][0] in sel_wts:\n",
    "            all_words.append(w[0].lower())"
   ]
  },
  {
   "cell_type": "code",
   "execution_count": 95,
   "metadata": {},
   "outputs": [
    {
     "data": {
      "text/plain": [
       "2104"
      ]
     },
     "execution_count": 95,
     "metadata": {},
     "output_type": "execute_result"
    }
   ],
   "source": [
    "len(all_words)"
   ]
  },
  {
   "cell_type": "code",
   "execution_count": null,
   "metadata": {},
   "outputs": [],
   "source": []
  },
  {
   "cell_type": "code",
   "execution_count": 96,
   "metadata": {},
   "outputs": [
    {
     "data": {
      "text/plain": [
       "FreqDist({'good': 84, 'great': 55, 'go': 38, 'came': 20, 'delicious': 19, 'best': 19, 'disappointed': 19, 'dont': 19, 'amazing': 18, 'going': 18, ...})"
      ]
     },
     "execution_count": 96,
     "metadata": {},
     "output_type": "execute_result"
    }
   ],
   "source": [
    "nltk.FreqDist(all_words)"
   ]
  },
  {
   "cell_type": "code",
   "execution_count": null,
   "metadata": {},
   "outputs": [],
   "source": []
  }
 ],
 "metadata": {
  "kernelspec": {
   "display_name": "Python 3",
   "language": "python",
   "name": "python3"
  },
  "language_info": {
   "codemirror_mode": {
    "name": "ipython",
    "version": 3
   },
   "file_extension": ".py",
   "mimetype": "text/x-python",
   "name": "python",
   "nbconvert_exporter": "python",
   "pygments_lexer": "ipython3",
   "version": "3.7.3"
  }
 },
 "nbformat": 4,
 "nbformat_minor": 2
}
